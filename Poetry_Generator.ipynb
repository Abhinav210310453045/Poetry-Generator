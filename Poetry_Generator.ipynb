{
  "nbformat": 4,
  "nbformat_minor": 0,
  "metadata": {
    "colab": {
      "provenance": []
    },
    "kernelspec": {
      "name": "python3",
      "display_name": "Python 3"
    },
    "language_info": {
      "name": "python"
    }
  },
  "cells": [
    {
      "cell_type": "code",
      "execution_count": 24,
      "metadata": {
        "id": "dqjWPu449y2F"
      },
      "outputs": [],
      "source": [
        "import numpy as np\n",
        "import pandas as pd\n",
        "import string\n",
        "import matplotlib.pyplot as plt\n",
        "np.random.seed(1234)"
      ]
    },
    {
      "cell_type": "code",
      "source": [
        "initial={} # start of the phrase\n",
        "first_order={}    # second word only\n",
        "second_order={}\n"
      ],
      "metadata": {
        "id": "y8lEVLaq-DT6"
      },
      "execution_count": 25,
      "outputs": []
    },
    {
      "cell_type": "code",
      "source": [
        "def remove_punctuation(s):\n",
        "  return s.translate(str.maketrans(\"\",\"\",string.punctuation))"
      ],
      "metadata": {
        "id": "ggxcV7Lz_BEh"
      },
      "execution_count": 3,
      "outputs": []
    },
    {
      "cell_type": "code",
      "source": [
        "# data=\"/content/drive/MyDrive/NLP/robert_frost.txt\"\n",
        "data=\"/content/mix_poetry.txt\""
      ],
      "metadata": {
        "id": "Oc0D5nvD_dcB"
      },
      "execution_count": 26,
      "outputs": []
    },
    {
      "cell_type": "code",
      "source": [
        "def add2dict(dic,key,value):\n",
        "  if key not in dic:\n",
        "    dic[key]=[]\n",
        "  dic[key].append(value)\n"
      ],
      "metadata": {
        "id": "eYztC4QMAFVK"
      },
      "execution_count": 27,
      "outputs": []
    },
    {
      "cell_type": "code",
      "source": [
        "# at this stage after running this cell the dictionaries only contains the\n",
        "# actual counts for each order,we will normalize it for converting to the probabilities\n",
        "\n",
        "for line in open(data):\n",
        "  #  tokens=remove_punctuation(line.rstrip().lower()).split()\n",
        "   tokens=line.split()\n",
        "   T=len(tokens)\n",
        "   for i in range(T):\n",
        "    t=tokens[i]\n",
        "    if i==0:\n",
        "      initial[t]=initial.get(t,0.)+1   # increased the count of the initial word\n",
        "    else:\n",
        "      t_1=tokens[i-1]                                    # of the sequence\n",
        "      if i==T-1:\n",
        "        add2dict(second_order,(t_1,t),\"END\")\n",
        "      if i==1:\n",
        "        add2dict(first_order,t_1,t)   # measure the distribution of the second word gievn only the first word\n",
        "      else :\n",
        "        t_2=tokens[i-2]\n",
        "        add2dict(second_order,(t_2,t_1),t)\n",
        ""
      ],
      "metadata": {
        "id": "LAVSdzkOFBbi"
      },
      "execution_count": 28,
      "outputs": []
    },
    {
      "cell_type": "code",
      "source": [
        "# plot for the initial matrix\n",
        "plt.plot(initial.values(),'o')"
      ],
      "metadata": {
        "colab": {
          "base_uri": "https://localhost:8080/",
          "height": 447
        },
        "id": "npoo7489OqQI",
        "outputId": "ed743c13-2453-4cc5-bfa1-9714dbc43467"
      },
      "execution_count": 29,
      "outputs": [
        {
          "output_type": "execute_result",
          "data": {
            "text/plain": [
              "[<matplotlib.lines.Line2D at 0x7a4220b4dba0>]"
            ]
          },
          "metadata": {},
          "execution_count": 29
        },
        {
          "output_type": "display_data",
          "data": {
            "text/plain": [
              "<Figure size 640x480 with 1 Axes>"
            ],
            "image/png": "[encoded data removed]"
          },
          "metadata": {}
        }
      ]
    },
    {
      "cell_type": "markdown",
      "source": [
        "\"Normalizing the distribution\""
      ],
      "metadata": {
        "id": "AP4nkbR7P_JH"
      }
    },
    {
      "cell_type": "code",
      "source": [
        "# Normalizing the initial dict\n",
        "total_initial=sum(initial.values())\n",
        "for t,v in initial.items():\n",
        "  initial[t]=v/total_initial"
      ],
      "metadata": {
        "id": "wU9C0MbIGrGQ"
      },
      "execution_count": 31,
      "outputs": []
    },
    {
      "cell_type": "code",
      "source": [
        "first_order.items()"
      ],
      "metadata": {
        "id": "Mlso5IjwQzOV"
      },
      "execution_count": null,
      "outputs": []
    },
    {
      "cell_type": "code",
      "source": [
        "\n",
        "def list2dict(lst):\n",
        "  dct={}\n",
        "  n=len(lst)\n",
        "  for i in lst:\n",
        "    dct[i]=dct.get(i,0.)+1\n",
        "  for key,val in dct.items():\n",
        "    dct[key]=val/n\n",
        "  return dct\n"
      ],
      "metadata": {
        "id": "aZ0tlCqAR6Re"
      },
      "execution_count": 32,
      "outputs": []
    },
    {
      "cell_type": "code",
      "source": [
        "# Normalizing the first order dictionary\n",
        "for t_1 ,t in first_order.items():\n",
        "  first_order[t_1]=list2dict(t)\n",
        "# first_order[\"the\"]"
      ],
      "metadata": {
        "id": "Ak1jq0ZMUjb7"
      },
      "execution_count": 33,
      "outputs": []
    },
    {
      "cell_type": "code",
      "source": [
        "# Normalizing the second order dictionary\n",
        "for (t_2,t_1),t in second_order.items():\n",
        "  second_order[(t_2,t_1)]=list2dict(t)"
      ],
      "metadata": {
        "id": "qGy5ECdEU-iW"
      },
      "execution_count": 34,
      "outputs": []
    },
    {
      "cell_type": "code",
      "source": [
        "# funciton to smaple a word from the dictioanary\n",
        "def sample_word(d):\n",
        "  p0=np.random.random() # generates the number between (0,1) -- representing the probability\n",
        "  # print(p0)\n",
        "  cumulative=0\n",
        "  for t,p in d.items():\n",
        "    cumulative+=p\n",
        "    if p0<cumulative:\n",
        "      return t\n",
        "  assert(False)"
      ],
      "metadata": {
        "id": "Yh6U6PmCWZu-"
      },
      "execution_count": 35,
      "outputs": []
    },
    {
      "cell_type": "markdown",
      "source": [
        "Generating the poetry"
      ],
      "metadata": {
        "id": "jbZ26GgXZ_49"
      }
    },
    {
      "cell_type": "code",
      "source": [
        "def Generate():\n",
        "\n",
        "  for i in range(5):\n",
        "    sentence=[]\n",
        "    #initial word\n",
        "    w0=sample_word(initial)\n",
        "    sentence.append(w0)\n",
        "\n",
        "    # sampling the second word\n",
        "\n",
        "    w1=sample_word(first_order[w0])\n",
        "\n",
        "    sentence.append(w1)\n",
        "\n",
        "    while True:\n",
        "      w2=sample_word(second_order[(w0,w1)])\n",
        "      if w2 ==\"END\":\n",
        "        break\n",
        "      sentence.append(w2)\n",
        "      w0=w1\n",
        "      w1=w2\n",
        "    print( \" \".join(sentence))\n"
      ],
      "metadata": {
        "id": "96pho8B5YUJm"
      },
      "execution_count": 36,
      "outputs": []
    },
    {
      "cell_type": "markdown",
      "source": [
        "Examples"
      ],
      "metadata": {
        "id": "KSJWWLBOK5MY"
      }
    },
    {
      "cell_type": "code",
      "source": [
        "Generate()\n",
        ""
      ],
      "metadata": {
        "colab": {
          "base_uri": "https://localhost:8080/"
        },
        "id": "9Hsbx-FcY-vD",
        "outputId": "105993a5-aec1-4ef0-cf66-18acb3a3d44f"
      },
      "execution_count": 100,
      "outputs": [
        {
          "output_type": "stream",
          "name": "stdout",
          "text": [
            "which means the seven caves that we havent tried\n",
            "i wonder\n",
            "or like the poetesss life\n",
            "ive never listened in among the raspberry vines\n",
            "perhaps you have three cards\n",
            "to see me end a lie\n",
            "and both of them to splinters what did that prove\n",
            "long since gave up pretense of keeping covered\n",
            "she wants our hens to be undone\n"
          ]
        }
      ]
    },
    {
      "cell_type": "code",
      "source": [
        "Generate()"
      ],
      "metadata": {
        "colab": {
          "base_uri": "https://localhost:8080/"
        },
        "id": "BmSIBuaSc0J1",
        "outputId": "4752e3eb-aea4-470b-ca30-f2d2b5929440"
      },
      "execution_count": 37,
      "outputs": [
        {
          "output_type": "stream",
          "name": "stdout",
          "text": [
            "कल जहाँ दीवार थी है आज इक दर देखिए\n",
            "कोई उस को ढूँड कर मैं और तू\n",
            "रेत उड़ाए गर्म हवा तो कैसे मैं बरसात लिखूँ\n",
            "उठाए फिरते थे एहसान जिस्म का जाँ पर\n",
            "मगर मैं पहचानता था जिस को वो आदमी अब कहीं नहीं है\n"
          ]
        }
      ]
    },
    {
      "cell_type": "code",
      "source": [
        "Generate()"
      ],
      "metadata": {
        "colab": {
          "base_uri": "https://localhost:8080/"
        },
        "id": "jfyn-8bPf41G",
        "outputId": "51915fb8-7c04-436b-b914-4894ec309a04"
      },
      "execution_count": 38,
      "outputs": [
        {
          "output_type": "stream",
          "name": "stdout",
          "text": [
            "बंध गई थी दिल में उतर गया सूरज\n",
            "ये नज़र जब उठे जहाँ ठहरे\n",
            "जानता हूँ मैं तुम को कब फ़ुर्सत है दुख देने की\n",
            "धूप उन्डेलो थोड़ी सी जान बाक़ी है\n",
            "संग-ए-मरमर, ऊदा बादल, सुर्ख़ शफ़क़, हैराँ आहू\n"
          ]
        }
      ]
    },
    {
      "cell_type": "code",
      "source": [
        "Generate()"
      ],
      "metadata": {
        "colab": {
          "base_uri": "https://localhost:8080/"
        },
        "id": "JWIjc1NxgjGx",
        "outputId": "36b46f39-ed32-4395-dbfa-43bb7ad82137"
      },
      "execution_count": 39,
      "outputs": [
        {
          "output_type": "stream",
          "name": "stdout",
          "text": [
            "क्या अजब उन के दामनों में भरे हैं रफ़ू के फूल\n",
            "फिर से वो अहल-ए-सियासत में हुए हैं बे-असर मैं और मिरी आवारगी\n",
            "हमें ये शौक़ है क्या आस्तीं भिगोने का\n",
            "जब भी फ़ुर्सत होती है\n",
            "इस नगरी में क्यूँ मिलती है बाज़ार में\n"
          ]
        }
      ]
    },
    {
      "cell_type": "code",
      "source": [
        "Generate()"
      ],
      "metadata": {
        "colab": {
          "base_uri": "https://localhost:8080/"
        },
        "id": "jAWHOR5TGVAa",
        "outputId": "a270b3ea-0d3c-45a9-912c-a050e031216b"
      },
      "execution_count": 40,
      "outputs": [
        {
          "output_type": "stream",
          "name": "stdout",
          "text": [
            "एक इक कर के उन्हें बेचा किया\n",
            "कभी तो हँस के मिला और कभी मिला भी नहीं पाई\n",
            "पहले तू लगती थी कितनी बेगाना\n",
            "कोई दीवार धो गया जैसे\n",
            "ख़ुद-कुशी क्या दुखों का हल बनती\n"
          ]
        }
      ]
    },
    {
      "cell_type": "code",
      "source": [],
      "metadata": {
        "id": "t5mLbzPJLDU4"
      },
      "execution_count": null,
      "outputs": []
    }
  ]
}